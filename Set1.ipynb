{
  "nbformat": 4,
  "nbformat_minor": 0,
  "metadata": {
    "colab": {
      "provenance": []
    },
    "kernelspec": {
      "name": "python3",
      "display_name": "Python 3"
    },
    "language_info": {
      "name": "python"
    }
  },
  "cells": [
    {
      "cell_type": "markdown",
      "source": [
        "---\n",
        "# Question 1\n",
        "\n",
        "### Question 1(a)"
      ],
      "metadata": {
        "id": "wjJ3eoTwd9nO"
      }
    },
    {
      "cell_type": "code",
      "source": [
        "class Stack:\n",
        "    # Write your code for Question 1(a) here\n",
        "    def __init__(self) :\n",
        "        self.stack = [] # implement a stack using list\n",
        "        self.size = 0\n",
        "\n",
        "    def clear(self):\n",
        "        if self.size == 0:\n",
        "          pass\n",
        "        else:\n",
        "          self.stack = [] # clear the stack \n",
        "\n",
        "    def isEmpty(self):\n",
        "        if self.size == 0: # Check if the stack is empty\n",
        "          return True # return True if the stack is empty\n",
        "        else:\n",
        "          return False # otherwise return False\n",
        "\n",
        "    def push(self, data):\n",
        "        self.stack.append(data) # Put data on the top of the stack\n",
        "        self.size += 1\n",
        "\n",
        "    def pop(self):\n",
        "        if self.size <= 0:  # if the stack is empty, return None\n",
        "          return None\n",
        "        else: # Take the topmost data from the stack and return it\n",
        "          self.size -= 1\n",
        "          return self.stack.pop() \n",
        "\n",
        "    def peek(self):\n",
        "        if self.size <= 0:  # if the stack is empty, return None\n",
        "          return None\n",
        "        else:\n",
        "          return self.stack[-1] # Return the topmost data in the stack\n",
        "        # without removing it       \n",
        "\n",
        "    def display(self):\n",
        "        print(self.stack) # show all the data in the stack\n",
        "        "
      ],
      "metadata": {
        "id": "nErnFM9MdWeP"
      },
      "execution_count": 1,
      "outputs": []
    },
    {
      "cell_type": "markdown",
      "source": [
        "### Question 1(b)\n"
      ],
      "metadata": {
        "id": "LGYOT2Tgepf_"
      }
    },
    {
      "cell_type": "code",
      "source": [
        "class Student:\n",
        "    def __init__(self,name,score):\n",
        "        self.name = name\n",
        "        self.score = score\n",
        "    def __str__(self):\n",
        "        return f\"{self.name}:{self.score}\"\n",
        "    def __repr__(self):\n",
        "        return str(self)\n",
        "    def __eq__(self,other):\n",
        "        return (self.score == other.score and self.name == other.name)\n",
        "    def __gt__(self,other):\n",
        "        if (self.score == other.score):\n",
        "            return self.name > other.name\n",
        "        else:\n",
        "            return self.score > other.score\n",
        "    def __lt__(self,other):\n",
        "        if (self.score == other.score):\n",
        "            return self.name < other.name\n",
        "        else:\n",
        "            return self.score < other.score\n",
        "    def __ge__(self,other):\n",
        "        return (not self < other)\n",
        "    def __le__(self,other):\n",
        "        return (not self > other)"
      ],
      "metadata": {
        "id": "Wmp9mm_-er95"
      },
      "execution_count": 2,
      "outputs": []
    },
    {
      "cell_type": "code",
      "source": [
        "class StackSort:\n",
        "    # Write your code for Question 1(b) here\n",
        "    def __init__(self,data):\n",
        "        # define two Stack\n",
        "        self.stack1 = Stack() # the first Stack contains all the elements in data\n",
        "        for i in data:\n",
        "          self.stack1.push(i)\n",
        "        self.stack2 = Stack() # and the second Stack left empty\n",
        "\n",
        "    def sort(self):\n",
        "        # sort the elements in the first Stack as follows:\n",
        "        while (self.stack1.isEmpty() == False) : # While the first Stack is not empty, do this:\n",
        "          temp = self.stack1.pop()  # - Pop an element from the first Stack and call it temp\n",
        "          \n",
        "          # - While the second Stack is not empty and\n",
        "          #   top of the second stack is greater than temp:\n",
        "          while (self.stack2.isEmpty() == False) and (self.stack2.peek() > temp):\n",
        "            #     - Pop from the second Stack and\n",
        "            #       push it to the first Stack\n",
        "            self.stack1.push(self.stack2.pop())\n",
        "          \n",
        "          self.stack2.push(temp)  # - Push temp to the second Stack\n",
        "        # the sorted elements are in second Stack\n",
        "\n",
        "    def display(self):\n",
        "        # show the data in two Stacks\n",
        "        print('Stack 1:', end='')\n",
        "        self.stack1.display()\n",
        "        print('Stack 2:', end='')\n",
        "        self.stack2.display()"
      ],
      "metadata": {
        "id": "bdlOXPaTfUzi"
      },
      "execution_count": 3,
      "outputs": []
    },
    {
      "cell_type": "markdown",
      "source": [
        "### Question 1(c)\n",
        "\n",
        "Testing code for part (c): *(run the code cell below to generate outputs, do not alter the code in the cell)*"
      ],
      "metadata": {
        "id": "zpI-hkktfz_u"
      }
    },
    {
      "cell_type": "code",
      "source": [
        "data = [Student(\"May\",85),Student(\"Peter\",30),Student(\"Louis\",90),\n",
        "Student(\"Frankie\",30),Student(\"Ron\",74)]\n",
        "stackSort = StackSort(data)\n",
        "print(\"Before stack sort:\")\n",
        "stackSort.display()\n",
        "stackSort.sort()\n",
        "print(\"After stack sort:\")\n",
        "stackSort.display()"
      ],
      "metadata": {
        "id": "dGi7rKAFgDuI",
        "colab": {
          "base_uri": "https://localhost:8080/"
        },
        "outputId": "0aee06bb-afa0-49cc-c4cc-237e411cd632"
      },
      "execution_count": 4,
      "outputs": [
        {
          "output_type": "stream",
          "name": "stdout",
          "text": [
            "Before stack sort:\n",
            "Stack 1:[May:85, Peter:30, Louis:90, Frankie:30, Ron:74]\n",
            "Stack 2:[]\n",
            "After stack sort:\n",
            "Stack 1:[]\n",
            "Stack 2:[Frankie:30, Peter:30, Ron:74, May:85, Louis:90]\n"
          ]
        }
      ]
    },
    {
      "cell_type": "markdown",
      "source": [
        "### Provide **THREE** more testing cases for question 1(c)"
      ],
      "metadata": {
        "id": "7urpCXxpgGfo"
      }
    },
    {
      "cell_type": "code",
      "source": [
        "# Write your testing code for Question 1(c) here\n",
        "\n",
        "#Test case 1\n",
        "try:\n",
        "  print('----------Testing cases 1----------')\n",
        "  testData = [[\"Peter\",25],Student(\"May\",85),[\"Louis\",25], None]\n",
        "  print(f'Input: {testData}')\n",
        "\n",
        "  stackSort = StackSort(testData)\n",
        "  print(\"Before stack sort:\")\n",
        "  stackSort.display()\n",
        "  stackSort.sort()\n",
        "  print(\"After stack sort:\")\n",
        "  stackSort.display()\n",
        "except:\n",
        "  print('Exception: Input mixing with Student objects and other data type is not allowed.')\n",
        "\n",
        "print('-----------------------------------\\n')\n",
        "\n",
        "#Test case 2\n",
        "try:\n",
        "  print('----------Testing cases 2----------')\n",
        "  testData = (85.8875558,100//5,9999999999999999999999999999999999, 50*3, -5, 0, 0)\n",
        "  print(f'Input: {testData}')\n",
        "\n",
        "  stackSort = StackSort(testData)\n",
        "  print(\"Before stack sort:\")\n",
        "  stackSort.display()\n",
        "  stackSort.sort()\n",
        "  print(\"After stack sort:\")\n",
        "  stackSort.display()\n",
        "except:\n",
        "  print('There should not be any exception by inputting numbers, and using turple')\n",
        "\n",
        "print('-----------------------------------\\n')\n",
        "\n",
        "#Test case 3\n",
        "try:\n",
        "  print('----------Testing cases 3----------')\n",
        "  testData = None\n",
        "  print(f'Input: {testData}')\n",
        "\n",
        "  stackSort = StackSort(testData)\n",
        "  print(\"Before stack sort:\")\n",
        "  stackSort.display()\n",
        "  stackSort.sort()\n",
        "  print(\"After stack sort:\")\n",
        "  stackSort.display()\n",
        "except:\n",
        "  print('Exception: Input with None and single element is not allowed')\n",
        "\n",
        "print('-----------------------------------\\n')"
      ],
      "metadata": {
        "id": "shxIgqP8gX-W",
        "colab": {
          "base_uri": "https://localhost:8080/"
        },
        "outputId": "5ca41418-8d28-4678-e95f-2bc82b1c4c46"
      },
      "execution_count": 5,
      "outputs": [
        {
          "output_type": "stream",
          "name": "stdout",
          "text": [
            "----------Testing cases 1----------\n",
            "Input: [['Peter', 25], May:85, ['Louis', 25], None]\n",
            "Before stack sort:\n",
            "Stack 1:[['Peter', 25], May:85, ['Louis', 25], None]\n",
            "Stack 2:[]\n",
            "Exception: Input mixing with Student objects and other data type is not allowed.\n",
            "-----------------------------------\n",
            "\n",
            "----------Testing cases 2----------\n",
            "Input: (85.8875558, 20, 9999999999999999999999999999999999, 150, -5, 0, 0)\n",
            "Before stack sort:\n",
            "Stack 1:[85.8875558, 20, 9999999999999999999999999999999999, 150, -5, 0, 0]\n",
            "Stack 2:[]\n",
            "After stack sort:\n",
            "Stack 1:[]\n",
            "Stack 2:[-5, 0, 0, 20, 85.8875558, 150, 9999999999999999999999999999999999]\n",
            "-----------------------------------\n",
            "\n",
            "----------Testing cases 3----------\n",
            "Input: None\n",
            "Exception: Input with None and single element is not allowed\n",
            "-----------------------------------\n",
            "\n"
          ]
        }
      ]
    },
    {
      "cell_type": "markdown",
      "source": [
        "### Question 1(d)\n",
        "\n",
        "*Put down your answer for Question 1(d) here*\n",
        "\n",
        "The time complexity of the above stack sort is $O(n^2)$. As in the sort() function of StackSort class, the amount of run time increased corresponding to the number of input^2 since it will remove the element of every input in pop() and put those element in push() again later.\n",
        "\n",
        "\n"
      ],
      "metadata": {
        "id": "Xj8f5nHigtWE"
      }
    },
    {
      "cell_type": "markdown",
      "source": [
        "---\n",
        "# Question 2\n",
        "\n",
        "### Question 2(a)\n",
        "*Put down your answer for Question 2(a) here*\n",
        "\n",
        "Double-click (or enter) to edit\n",
        "\n",
        "\\begin{array}{|c|c|} \\hline\n",
        "Index & Value \\\\ \\hline\n",
        "0 & 00 \\\\ \\hline\n",
        "1 & 10-> 01 \\\\ \\hline\n",
        "2 & 02 -> 02-> 20 \\\\ \\hline\n",
        "3 & 21 \\\\ \\hline\n",
        "4 & Empty \\\\ \\hline\n",
        "5 & Empty \\\\ \\hline\n",
        "6 & Empty \\\\ \\hline\n",
        "7 & Empty \\\\ \\hline\n",
        "8 & Empty \\\\ \\hline\n",
        "\\end{array}\n"
      ],
      "metadata": {
        "id": "FUG-yy1yd9Q1"
      }
    },
    {
      "cell_type": "markdown",
      "source": [
        "### Question 2(b)\n",
        "*Put down your answer for Question 2(b) here*\n",
        "\n",
        "Double-click (or enter) to edit\n",
        "\n",
        "\\begin{array}{|c|c|} \\hline\n",
        "Index & Value \\\\ \\hline\n",
        "0 & 00 \\\\ \\hline\n",
        "1 & 10 \\\\ \\hline\n",
        "2 & 02 \\\\ \\hline\n",
        "3 & 21 \\\\ \\hline\n",
        "4 & 02 \\\\ \\hline\n",
        "5 & 01 \\\\ \\hline\n",
        "6 & 20 \\\\ \\hline\n",
        "7 & Empty \\\\ \\hline\n",
        "8 & Empty \\\\ \\hline\n",
        "\\end{array}"
      ],
      "metadata": {
        "id": "qyHbr0h2l5wk"
      }
    },
    {
      "cell_type": "markdown",
      "source": [
        "### Question 2(c)\n",
        "*Put down your answer for Question 2(c) here*\n",
        "\n",
        "We cannot simply make the slot as empty to delete a key from a hash table using linear probing as the value might be part of the probe sequence of finding an unoccupied slot. To solve the problem, a special flag value should be stored instead of empty, such as marking the slot as \"deleted\"."
      ],
      "metadata": {
        "id": "YHeKO-B8mA61"
      }
    },
    {
      "cell_type": "markdown",
      "source": [
        "\n",
        "\n",
        "---\n",
        "\n",
        "\n",
        "# Provided Classes (for Questions 3 & 4)"
      ],
      "metadata": {
        "id": "Yg2PdrP1VPHX"
      }
    },
    {
      "cell_type": "markdown",
      "source": [
        "### Run the following code block to define some classes before running other code"
      ],
      "metadata": {
        "id": "CKfyTMukWQQ-"
      }
    },
    {
      "cell_type": "code",
      "source": [
        "class LLNode:\n",
        "    def __init__(self, element=None, node=None):\n",
        "        self.element = element\n",
        "        self.next = node\n",
        "\n",
        "class SLinkedList:\n",
        "    def __init__(self):\n",
        "        self.head = None\n",
        "\n",
        "    def listprint(self):\n",
        "        p = self.head\n",
        "        while p is not None:\n",
        "            print(p.element)\n",
        "            p = p.next\n",
        "    \n",
        "    def isEmpty(self):\n",
        "        return self.head is None\n",
        "    \n",
        "    def size(self):\n",
        "        size = 0\n",
        "        p = self.head\n",
        "        while p is not None:\n",
        "            size += 1\n",
        "            p = p.next\n",
        "        return size\n",
        "\n",
        "    def get(self, index):\n",
        "        p = self.head\n",
        "        i = 0\n",
        "        while p is not None and i < index:\n",
        "            p = p.next\n",
        "            i += 1\n",
        "        if p is not None:\n",
        "            return p.element\n",
        "        else:   # index >= self.size()\n",
        "            return None\n",
        "    \n",
        "    def indexOf(self, element):\n",
        "        p = self.head\n",
        "        i = 0\n",
        "        while p is not None and p.element != element:\n",
        "            p = p.next\n",
        "            i += 1\n",
        "        if p is not None:\n",
        "            return i\n",
        "        else:\n",
        "            return -1\n",
        "    \n",
        "    def addAtHead(self, element):\n",
        "        self.head = LLNode(element, self.head)\n",
        "    \n",
        "    def addAtTail(self, element):\n",
        "        if self.head is None:\n",
        "            self.head = LLNode(element)\n",
        "        else:\n",
        "            p = self.head\n",
        "            while p.next is not None:\n",
        "                p = p.next\n",
        "            p.next = LLNode(element)\n",
        "    \n",
        "    def add(self, index, element):\n",
        "        if index == 0:\n",
        "            self.addAtHead(element)\n",
        "        else:\n",
        "            p = self.head\n",
        "            i = 0\n",
        "            while p is not None and i < index - 1:\n",
        "                p = p.next\n",
        "                i += 1\n",
        "            \n",
        "            # The following statement will raise an error if index > self.size()\n",
        "            p.next = LLNode(element, p.next)\n",
        "\n",
        "    def remove(self, index):\n",
        "        if self.isEmpty():\n",
        "            return None\n",
        "        if index == 0:\n",
        "            element = self.head.element\n",
        "            self.head = self.head.next\n",
        "            return element\n",
        "        else:\n",
        "            p = self.head\n",
        "            i = 0\n",
        "            while p is not None and i < index:\n",
        "                prev = p\n",
        "                p = p.next\n",
        "                i += 1\n",
        "\n",
        "            if p is None:\n",
        "                return None\n",
        "            \n",
        "            element = p.element\n",
        "            prev.next = p.next\n",
        "            return element\n",
        "    \n",
        "    def removeNode(self, element):\n",
        "        if self.isEmpty():\n",
        "            return None\n",
        "        p = self.head\n",
        "        if p.element == element:\n",
        "            self.head = p.next\n",
        "        else:\n",
        "            while p is not None and p.element != element:\n",
        "                prev = p\n",
        "                p = p.next\n",
        "            if p is not None:\n",
        "                prev.next = p.next\n",
        "\n",
        "class BSTNode:\n",
        "    def __init__(self, key, data):\n",
        "        self.left = None\n",
        "        self.right = None\n",
        "        self.key = key\n",
        "        self.data = data\n",
        "\n",
        "    # A utility function to search a given key in BST\n",
        "    def get(self, key):\n",
        "        p = self\n",
        "\n",
        "        while p is not None:\n",
        "            if p.key < key:\n",
        "                p = p.right\n",
        "            elif p.key > key:\n",
        "                p = p.left\n",
        "            else:\n",
        "                return p.data\n",
        "\n",
        "        # no matching key\n",
        "        return None\n",
        "\n",
        "    def put(self, key, data):\n",
        "        # Compare the new value with the parent node\n",
        "        if self.key:\n",
        "            if key < self.key:\n",
        "                if self.left is None:\n",
        "                    self.left = BSTNode(key, data)\n",
        "                else:\n",
        "                    self.left.put(key, data)\n",
        "            elif key > self.key:\n",
        "                if self.right is None:\n",
        "                    self.right = BSTNode(key, data)\n",
        "                else:\n",
        "                    self.right.put(key, data)\n",
        "        else:\n",
        "            self.key = key\n",
        "            self.data = data\n",
        "\n",
        "    # To find the inorder successor which is the smallest node in the subtree\n",
        "    def findsuccessor(self, node):\n",
        "        current_node = node\n",
        "        while current_node.left is not None:\n",
        "            current_node = current_node.left\n",
        "        return current_node\n",
        "\n",
        "    def remove(self, root, key):\n",
        "        # Base Case\n",
        "        if root is None:\n",
        "            return root\n",
        "\n",
        "        # If the key to be deleted is smaller than the root's key then it lies in left subtree\n",
        "        if key < root.key:\n",
        "            root.left = self.remove(root.left, key)\n",
        "\n",
        "        # If the kye to be delete is greater than the root's key then it lies in right subtree\n",
        "        elif key > root.key:\n",
        "            root.right = self.remove(root.right, key)\n",
        "\n",
        "        # If key is same as root's key, then this is the node to be deleted\n",
        "        else:\n",
        "            # Node with only one child or no child\n",
        "            if root.left is None:\n",
        "                temp = root.right\n",
        "                root = None\n",
        "                return temp\n",
        "\n",
        "            elif root.right is None:\n",
        "                temp = root.left\n",
        "                root = None\n",
        "                return temp\n",
        "\n",
        "            # Node with two children:\n",
        "            # Get the inorder successor (smallest in the right subtree)\n",
        "            temp = self.findsuccessor(root.right)\n",
        "\n",
        "            # Copy the inorder successor's content to this node\n",
        "            root.key = temp.key\n",
        "            root.data = temp.data   # copy by assignment\n",
        "\n",
        "            # Delete the inorder successor\n",
        "            root.right = self.remove(root.right, temp.key)\n",
        "\n",
        "        return root\n",
        "\n",
        "    # Print the tree\n",
        "    def PrintTree(self):\n",
        "        if self.left:\n",
        "            self.left.PrintTree()\n",
        "        print(self.key, self.data),\n",
        "        if self.right:\n",
        "            self.right.PrintTree()"
      ],
      "metadata": {
        "id": "2B8UlacQVSMn"
      },
      "execution_count": 6,
      "outputs": []
    },
    {
      "cell_type": "markdown",
      "source": [
        "\n",
        "\n",
        "---\n",
        "\n",
        "\n",
        "# Question 3"
      ],
      "metadata": {
        "id": "iJzytP6lFfEp"
      }
    },
    {
      "cell_type": "markdown",
      "source": [
        "### Question 3(a)"
      ],
      "metadata": {
        "id": "ivN9cS2UW75O"
      }
    },
    {
      "cell_type": "code",
      "source": [
        "import re"
      ],
      "metadata": {
        "id": "qT-NVxyattVN"
      },
      "execution_count": 7,
      "outputs": []
    },
    {
      "cell_type": "code",
      "execution_count": 8,
      "metadata": {
        "id": "_OqV_S5r9jKJ"
      },
      "outputs": [],
      "source": [
        "class Student:\n",
        "    # Write your code for Question 3(a) here\n",
        "    def __init__(self, name : str, studentid: str):\n",
        "      #1\n",
        "      if not isinstance(name, str):\n",
        "        raise TypeError('Invalid name')\n",
        "      if not isinstance(studentid, str):\n",
        "        raise TypeError('Invalid student id')\n",
        "      if re.fullmatch('[0-9]{8}A', studentid) is None: #2\n",
        "        raise TypeError(f'Invalid student id {studentid}')\n",
        "      self.name = name #3\n",
        "      self.studentid = studentid #4\n",
        "\n",
        "    def  __str__(self): #5\n",
        "      return f'Name: {self.name}, ID: {self.studentid}'\n",
        "    \n",
        "    def  __eq__(self, studentCompared: Student): #6\n",
        "      if not isinstance(studentCompared, Student):\n",
        "        raise TypeError('Invalid  data type!')\n",
        "      if(self.studentid == studentCompared.studentid):\n",
        "        return True\n",
        "      else:\n",
        "        return False"
      ]
    },
    {
      "cell_type": "markdown",
      "source": [
        "**Testing code for part (a)**: (run the code cell below to generate outputs, do not alter the code in the cell)"
      ],
      "metadata": {
        "id": "4gEn07m_Wttu"
      }
    },
    {
      "cell_type": "code",
      "source": [
        "student1 = Student('Dear Jane', '21666666A')\n",
        "student2 = Student('Ka Yan 9896', '21009896A')\n",
        "student3 = Student('Dear Jane', '21666666A')\n",
        "try:\n",
        "    Student('Quit gambling', '1834633')\n",
        "except Exception as e:\n",
        "    print(e)\n",
        "print(student1)\n",
        "print(student2)\n",
        "print(student1 == student2)\n",
        "print(student1 == student3)\n",
        "try:\n",
        "    print(student1 == 'Dear Jane')\n",
        "except Exception as e:\n",
        "    print(e)"
      ],
      "metadata": {
        "id": "nnd1LwVG9zIQ",
        "colab": {
          "base_uri": "https://localhost:8080/"
        },
        "outputId": "8e23a831-1f7c-4a0a-dd4a-759545e40492"
      },
      "execution_count": 9,
      "outputs": [
        {
          "output_type": "stream",
          "name": "stdout",
          "text": [
            "Invalid student id 1834633\n",
            "Name: Dear Jane, ID: 21666666A\n",
            "Name: Ka Yan 9896, ID: 21009896A\n",
            "False\n",
            "True\n",
            "Invalid  data type!\n"
          ]
        }
      ]
    },
    {
      "cell_type": "markdown",
      "source": [
        "### Question 3(b)"
      ],
      "metadata": {
        "id": "9gCjFxPa_c4S"
      }
    },
    {
      "cell_type": "code",
      "source": [
        "class Registry:\n",
        "    def __init__(self):\n",
        "        self.BSTList = [None] * 10   # List of 10 BSTs\n",
        "    \n",
        "    # Question 3(b)\n",
        "    def add_student(self, name, studentid):\n",
        "        # Write your code for Question 3(b) here\n",
        "        #1\n",
        "        if not isinstance(name, str):\n",
        "          print('Invalid name')\n",
        "        if not isinstance(studentid, str):\n",
        "          print('Invalid student id')\n",
        "        if re.fullmatch('[0-9]{8}A', studentid) is None: #2\n",
        "          print(f'Invalid student id {studentid}')\n",
        "        \n",
        "        try:\n",
        "          BST = int(studentid[7]) #3\n",
        "\n",
        "          if self.BSTList[BST] is not None and self.BSTList[BST].get(studentid) is not None: #4\n",
        "            print(f'{name} {studentid} has already registered')\n",
        "          else:\n",
        "            studentToAdd = Student(name,studentid) #5\n",
        "            self.BSTList[BST] = BSTNode(studentid,studentToAdd)\n",
        "            if self.BSTList[BST].get(studentid) is studentToAdd: #6\n",
        "              print(f'Register {name} {studentid} successful.')\n",
        "\n",
        "        except:\n",
        "          pass\n",
        "\n",
        "    \n",
        "    # The following function is provided\n",
        "    def print_students(self):\n",
        "        for i, BST in enumerate(self.BSTList):\n",
        "            if BST is not None:\n",
        "                print(f'Students with ID ended with {i}:')\n",
        "                BST.PrintTree()"
      ],
      "metadata": {
        "id": "y_nwZ-lWXIy2"
      },
      "execution_count": 10,
      "outputs": []
    },
    {
      "cell_type": "markdown",
      "source": [
        "**Testing code for part (b)**: (run the code cell below to generate outputs, do not alter the code in the cell)"
      ],
      "metadata": {
        "id": "y3pLfBrqGLhd"
      }
    },
    {
      "cell_type": "code",
      "source": [
        "student_records = [\n",
        "    {'name': 'Chan Ka Yi', 'studentid': '21123456A'},\n",
        "    {'name': 'So Fun Nei', 'studentid': '21888888A'},\n",
        "    {'name': 'Ngor Mo Chin', 'studentid': '21654321A'}\n",
        "]\n",
        "\n",
        "registry = Registry()\n",
        "for student_record in student_records:\n",
        "    registry.add_student(**student_record)\n",
        "print()\n",
        "registry.add_student('SC Storage', '81777778')\n",
        "print()\n",
        "registry.add_student(**student_records[0])\n",
        "print()\n",
        "registry.print_students()"
      ],
      "metadata": {
        "id": "QSKNFeuFX1ZF",
        "colab": {
          "base_uri": "https://localhost:8080/"
        },
        "outputId": "5ad11627-5b68-4505-a5c2-9be77deff651"
      },
      "execution_count": 11,
      "outputs": [
        {
          "output_type": "stream",
          "name": "stdout",
          "text": [
            "Register Chan Ka Yi 21123456A successful.\n",
            "Register So Fun Nei 21888888A successful.\n",
            "Register Ngor Mo Chin 21654321A successful.\n",
            "\n",
            "Invalid student id 81777778\n",
            "\n",
            "Chan Ka Yi 21123456A has already registered\n",
            "\n",
            "Students with ID ended with 1:\n",
            "21654321A Name: Ngor Mo Chin, ID: 21654321A\n",
            "Students with ID ended with 6:\n",
            "21123456A Name: Chan Ka Yi, ID: 21123456A\n",
            "Students with ID ended with 8:\n",
            "21888888A Name: So Fun Nei, ID: 21888888A\n"
          ]
        }
      ]
    },
    {
      "cell_type": "markdown",
      "source": [
        "\n",
        "\n",
        "---\n",
        "\n",
        "# Question 4"
      ],
      "metadata": {
        "id": "KVE3sgXKGUFA"
      }
    },
    {
      "cell_type": "markdown",
      "source": [
        "### Question 4(a)"
      ],
      "metadata": {
        "id": "hDcORVPtYmxm"
      }
    },
    {
      "cell_type": "code",
      "source": [
        "class Student:\n",
        "    # Write your code for Question 4(a) here\n",
        "    def __init__(self, name : str, studentid: str):\n",
        "      if not isinstance(name, str):\n",
        "        raise TypeError('Invalid name')\n",
        "      if not isinstance(studentid, str):\n",
        "        raise TypeError('Invalid student id')\n",
        "      if re.fullmatch('[0-9]{8}A', studentid) is None: \n",
        "        raise TypeError(f'Invalid student id {studentid}')\n",
        "      self.name = name \n",
        "      self.studentid = studentid \n",
        "      self._courselist = SLinkedList() #a\n",
        "\n",
        "    def  __str__(self): \n",
        "      return f'Name: {self.name}, ID: {self.studentid}'\n",
        "    \n",
        "    def  __eq__(self, studentCompared: Student): \n",
        "      if not isinstance(studentCompared, Student):\n",
        "        raise TypeError('Invalid  data type!')\n",
        "      if(self.studentid == studentCompared.studentid):\n",
        "        return True\n",
        "      else:\n",
        "        return False"
      ],
      "metadata": {
        "id": "r_VwAdET-HyQ"
      },
      "execution_count": 12,
      "outputs": []
    },
    {
      "cell_type": "markdown",
      "source": [
        "**Testing code for part (a)**: (run the code cell below to generate outputs, do not alter the code in the cell)"
      ],
      "metadata": {
        "id": "WQdJ8jZOZkD2"
      }
    },
    {
      "cell_type": "code",
      "source": [
        "student1 = Student(\"Black Pink\", \"21732534A\")\n",
        "student1._courselist.addAtTail(\"SEHH2239\")\n",
        "student1._courselist.addAtTail(\"SEHH2240\")\n",
        "student1._courselist.listprint()"
      ],
      "metadata": {
        "id": "JMJXKCDvZlKe",
        "colab": {
          "base_uri": "https://localhost:8080/"
        },
        "outputId": "226771ff-0af7-4701-faf0-55175af87c31"
      },
      "execution_count": 13,
      "outputs": [
        {
          "output_type": "stream",
          "name": "stdout",
          "text": [
            "SEHH2239\n",
            "SEHH2240\n"
          ]
        }
      ]
    },
    {
      "cell_type": "markdown",
      "source": [
        "### Question 4(b)"
      ],
      "metadata": {
        "id": "27BS1oMkZs7m"
      }
    },
    {
      "cell_type": "code",
      "source": [
        "class Registry2(Registry):\n",
        "    def __init__(self):\n",
        "        super().__init__()\n",
        "    \n",
        "    # Question 4(b)\n",
        "    def add_course(self, studentid, course):\n",
        "        # Write your code for Question 4(b) here\n",
        "        #1\n",
        "        if not isinstance(studentid, str):\n",
        "          print('Invalid student id')\n",
        "          return\n",
        "        if re.fullmatch('[0-9]{8}A', studentid) is None: #2\n",
        "          print(f'Invalid student id {studentid}')\n",
        "          return\n",
        "        if not isinstance(course, str):\n",
        "          print('Invalid course code')\n",
        "          return\n",
        "\n",
        "        try:\n",
        "          BST = int(studentid[7]) #3\n",
        "          studentToAdd = self.BSTList[BST].get(studentid) #4\n",
        "          if studentToAdd is None: #5\n",
        "            print(f'{studentid} not a registered student.')\n",
        "          elif(studentToAdd._courselist.indexOf(course) != -1): #6\n",
        "            print(f'{studentToAdd.name} {studentid} has already enrolled {course}.')\n",
        "          else: \n",
        "            studentToAdd._courselist.addAtTail(course) #7\n",
        "            #8\n",
        "            if studentToAdd._courselist.get(studentToAdd._courselist.indexOf(course)) is course:\n",
        "              print(f'Enroll {studentToAdd.name} {studentid} to {course} successful.')\n",
        "        except:\n",
        "          print(f'{studentid} not a registered student.')\n",
        "\n",
        " \n",
        "    # The following function is provided\n",
        "    def print_courses(self, studentid):\n",
        "        if not isinstance(studentid, str):\n",
        "            raise TypeError('Invalid input type')\n",
        "        if re.fullmatch('[0-9]{8}A', studentid) is None:\n",
        "            raise ValueError(f'Invalid student id {studentid}')\n",
        "\n",
        "        tree_id = int(studentid[-2])\n",
        "        BST = self.BSTList[tree_id]\n",
        "        student = BST.get(studentid) if BST is not None else None\n",
        "        if student is None:\n",
        "            print(f'{studentid} not a registered student')\n",
        "            return\n",
        "        else:\n",
        "            print(f'{student.name} {student.studentid} enrolled these courses:')\n",
        "            student._courselist.listprint()"
      ],
      "metadata": {
        "id": "Cnszx-4h_CSM"
      },
      "execution_count": 14,
      "outputs": []
    },
    {
      "cell_type": "markdown",
      "source": [
        "**Testing code for part (b):** (run the code cell below to generate outputs, do not alter the code in the cell)"
      ],
      "metadata": {
        "id": "iMzixhuxaSW2"
      }
    },
    {
      "cell_type": "code",
      "source": [
        "student_records = [\n",
        "    {'name': 'Chan Ka Yi', 'studentid': '21123456A'},\n",
        "    {'name': 'So Fun Nei', 'studentid': '21888888A'},\n",
        "    {'name': 'Ngor Mo Chin', 'studentid': '21654321A'}\n",
        "]\n",
        "\n",
        "course_records = [\n",
        "    {'studentid': '21123456A', 'course': 'SEHH2239'},\n",
        "    {'studentid': '21888888A', 'course': 'SEHH2239'},\n",
        "    {'studentid': '21654321A', 'course': 'SEHH2240'},\n",
        "    {'studentid': '21654321A', 'course': 'SEHH2241'},\n",
        "]\n",
        "\n",
        "registry = Registry2()\n",
        "for student_record in student_records:\n",
        "    registry.add_student(**student_record)\n",
        "print()\n",
        "\n",
        "for course_record in course_records:\n",
        "    registry.add_course(**course_record)\n",
        "\n",
        "print()\n",
        "registry.add_course('XDJCNDEG', 'Random string')\n",
        "registry.add_course('23000000A', 'Pizza Hut Hotline')\n",
        "registry.add_course(**course_records[0])\n",
        "\n",
        "print()\n",
        "registry.print_courses('21654321A')"
      ],
      "metadata": {
        "id": "lJ_aV1iDaU_O",
        "colab": {
          "base_uri": "https://localhost:8080/"
        },
        "outputId": "a6be3ea7-164d-49db-f813-f90a2b0bd8cf"
      },
      "execution_count": 15,
      "outputs": [
        {
          "output_type": "stream",
          "name": "stdout",
          "text": [
            "Register Chan Ka Yi 21123456A successful.\n",
            "Register So Fun Nei 21888888A successful.\n",
            "Register Ngor Mo Chin 21654321A successful.\n",
            "\n",
            "Enroll Chan Ka Yi 21123456A to SEHH2239 successful.\n",
            "Enroll So Fun Nei 21888888A to SEHH2239 successful.\n",
            "Enroll Ngor Mo Chin 21654321A to SEHH2240 successful.\n",
            "Enroll Ngor Mo Chin 21654321A to SEHH2241 successful.\n",
            "\n",
            "Invalid student id XDJCNDEG\n",
            "23000000A not a registered student.\n",
            "Chan Ka Yi 21123456A has already enrolled SEHH2239.\n",
            "\n",
            "Ngor Mo Chin 21654321A enrolled these courses:\n",
            "SEHH2240\n",
            "SEHH2241\n"
          ]
        }
      ]
    },
    {
      "cell_type": "markdown",
      "source": [
        "### Question 4(c)"
      ],
      "metadata": {
        "id": "01w9VGXUaANF"
      }
    },
    {
      "cell_type": "markdown",
      "source": [
        "(i) *Put down your answer for Question 4(c)(i) here*\n",
        "\n",
        "As the number of every course enrollment affects run time, unrelated courses wasted running time leading to lower efficiency.\n",
        "\n",
        "(ii) *Put down your answer for Question 4(c)(ii) here*\n",
        "\n",
        "Hashing with array implemented and linked list for collisions handling is suggested to improve efficiency. The key can be course code and value can be student id."
      ],
      "metadata": {
        "id": "xs1O0SVtaCdO"
      }
    },
    }
  ]
}
